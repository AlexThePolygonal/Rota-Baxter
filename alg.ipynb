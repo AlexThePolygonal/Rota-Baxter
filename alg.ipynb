{
 "cells": [
  {
   "attachments": {},
   "cell_type": "markdown",
   "metadata": {},
   "source": [
    "First, the scaffolding for the code after."
   ]
  },
  {
   "cell_type": "code",
   "execution_count": 1,
   "metadata": {},
   "outputs": [],
   "source": [
    "n = 2\n",
    "n2 = n**2\n",
    "\n",
    "def listcast(lin):\n",
    "    # cast vector to list\n",
    "    res = []\n",
    "    for x in lin:\n",
    "        res.append(x[0])\n",
    "    return res\n",
    "\n",
    "\n",
    "def lincast(mat):\n",
    "    # cast matrix to vector \n",
    "    res = Matrix(SR, n**2, 1)\n",
    "    for i in range(n):\n",
    "        for j in range(n):\n",
    "            res[i*n + j] = mat[i,j]\n",
    "    return res\n",
    "\n",
    "def matcast(lin):\n",
    "    # cast vector to matrix\n",
    "    res = Matrix(SR, n, n)\n",
    "    for i in range(n):\n",
    "        for j in range(n):\n",
    "            res[i,j] = lin[i*n + j][0]\n",
    "    return res\n",
    "\n",
    "def matricize(list, sz):\n",
    "    # cast list to matrix\n",
    "    res = Matrix(SR, sz, sz)\n",
    "    for i in range(sz):\n",
    "        for j in range(sz):\n",
    "            res[i,j] = list[i*sz + j]\n",
    "    return res\n",
    "\n",
    "def mul(a, b):\n",
    "    return a * b\n",
    "\n",
    "def to_sing(ideal):\n",
    "    res = []\n",
    "    for eqn in ideal.gens():\n",
    "        res.append(eqn)\n",
    "    return res"
   ]
  },
  {
   "attachments": {},
   "cell_type": "markdown",
   "metadata": {},
   "source": [
    "Generating the necessary variables"
   ]
  },
  {
   "cell_type": "code",
   "execution_count": 2,
   "metadata": {},
   "outputs": [
    {
     "data": {
      "text/plain": [
       "(\n",
       "(r11, r12, r13, r14, r21, r22, r23, r24, r31, r32, r33, r34, r41, r42, r43, r44),\n",
       "\n",
       "[r11 r12 r13 r14]\n",
       "[r21 r22 r23 r24]\n",
       "[r31 r32 r33 r34]\n",
       "[r41 r42 r43 r44]\n",
       ")"
      ]
     },
     "execution_count": 2,
     "metadata": {},
     "output_type": "execute_result"
    }
   ],
   "source": [
    "vars_rota = var(','.join('r{}{}'.format(i, j) for i in range(1,n2+1) for j in range(1,n2+1)))\n",
    "rota = matricize(vars_rota, n2)\n",
    "\n",
    "vars_e = var(','.join('e{}{}'.format(i, j) for i in range(1, n+1) for j in range(1, n+1)))\n",
    "vars_x = var(','.join('x{}'.format(i) for i in range(1, n2+1)))\n",
    "vars_y = var(','.join('y{}'.format(i) for i in range(1, n2+1)))\n",
    "\n",
    "x = matricize(vars_x, n)\n",
    "y = matricize(vars_y, n)\n",
    "vars_rota, rota"
   ]
  },
  {
   "attachments": {},
   "cell_type": "markdown",
   "metadata": {},
   "source": [
    "Generating the equations defining the Rota variety."
   ]
  },
  {
   "cell_type": "code",
   "execution_count": 3,
   "metadata": {},
   "outputs": [],
   "source": [
    "def ROp(mat):\n",
    "    return matcast(rota.T * lincast(mat))\n"
   ]
  },
  {
   "cell_type": "code",
   "execution_count": 4,
   "metadata": {},
   "outputs": [],
   "source": [
    "raw_equations = ROp(x) * ROp(y) - ROp(ROp(x)*y + x*ROp(y))\n",
    "equations = []\n",
    "\n",
    "# adding equations defined on a basis\n",
    "for i in range(n2):\n",
    "    for j in range(n2):\n",
    "        subst_dict_x = dict([\n",
    "            (vars_x[i], 0) for i in range(n2)\n",
    "        ])\n",
    "        subst_dict_y = dict([\n",
    "            (vars_y[i], 0) for i in range(n2)\n",
    "        ])\n",
    "        subst_dict_x[vars_x[i]] = 1\n",
    "        subst_dict_y[vars_y[j]] = 1\n",
    "        eqs = raw_equations.substitute(subst_dict_x).substitute(subst_dict_y)\n",
    "        \n",
    "        equations += listcast(lincast(eqs))\n"
   ]
  },
  {
   "cell_type": "code",
   "execution_count": 5,
   "metadata": {},
   "outputs": [],
   "source": [
    "# helper function, \n",
    "# take a system of eqns with vars_x and vars_y \n",
    "# and retain only the coeffs if x_i and y_j\n",
    "def take_only(where, i,j):\n",
    "    subst_dict_x = dict([\n",
    "        (vars_x[i], 0) for i in range(n2)\n",
    "    ])\n",
    "    subst_dict_y = dict([\n",
    "        (vars_y[i], 0) for i in range(n2)\n",
    "    ])\n",
    "    subst_dict_x[vars_x[i]] = 1\n",
    "    subst_dict_y[vars_y[j]] = 1\n",
    "    return (where).substitute(subst_dict_x).substitute(subst_dict_y)\n"
   ]
  },
  {
   "cell_type": "code",
   "execution_count": 6,
   "metadata": {},
   "outputs": [],
   "source": [
    "R.<r11,r12,r13,r14,r21,r22,r23,r24,r31,r32,r33,r34,r41,r42,r43,r44> = QQ[vars_rota]\n",
    "I = R.ideal(equations)\n",
    "I\n",
    "irrelevant_ideal = R.ideal(r11,r12,r13,r14,r21,r22,r23,r24,r31,r32,r33,r34,r41,r42,r43,r44)\n",
    "vars_rota = [r11,r12,r13,r14,r21,r22,r23,r24,r31,r32,r33,r34,r41,r42,r43,r44]"
   ]
  },
  {
   "cell_type": "code",
   "execution_count": 7,
   "metadata": {},
   "outputs": [
    {
     "data": {
      "text/plain": [
       "[r11,\n",
       " r12,\n",
       " r13,\n",
       " r14,\n",
       " r21,\n",
       " r22,\n",
       " r23,\n",
       " r24,\n",
       " r31,\n",
       " r32,\n",
       " r33,\n",
       " r34,\n",
       " r41,\n",
       " r42,\n",
       " r43,\n",
       " r44]"
      ]
     },
     "execution_count": 7,
     "metadata": {},
     "output_type": "execute_result"
    }
   ],
   "source": [
    "vars_rota   "
   ]
  },
  {
   "cell_type": "code",
   "execution_count": 8,
   "metadata": {},
   "outputs": [],
   "source": [
    "# these are the real equations, first to from Tang-Zhang-Sun\n",
    "assert I.reduce(r12*r13 - r11*r11 - r12*r21 - r13*r31) == 0\n",
    "assert I.reduce(r12*r14 - r11*r12 - r12*r22 - r13*r32) == 0"
   ]
  },
  {
   "cell_type": "code",
   "execution_count": 9,
   "metadata": {},
   "outputs": [
    {
     "name": "stdout",
     "output_type": "stream",
     "text": [
      "-r11^2 + r12*r13 - r12*r21 - r13*r31\n",
      "-r11*r12 + r12*r14 - r12*r22 - r13*r32\n",
      "-r11*r13 + r13*r14 - r12*r23 - r13*r33\n",
      "r12*r13 - 2*r11*r14 + r14^2 - r12*r24 - r13*r34\n",
      "-(r11 + r22)*r21 + r12*r23 - r13*r41\n",
      "-r12*r21 - (r11 + r22)*r22 + r11*r22 + r12*r24 - r13*r42\n",
      "-(r11 + r22)*r23 + r14*r23 - r13*r43\n",
      "-r14*r21 + r13*r22 - (r11 + r22)*r24 + r14*r24 - r13*r44\n",
      "-r11*(r12 + r31) + r11*r31 - r14*r31 - r21*r32 + r12*r33\n",
      "-(r12 + r31)*r12 + r11*r32 - r14*r32 - r22*r32 + r12*r34\n",
      "-(r12 + r31)*r13 + r13*r31 - r23*r32\n",
      "-(r12 + r31)*r14 + r13*r32 - r24*r32\n",
      "-(r12 + r42)*r21 - r14*r41 + r12*r43\n",
      "-(r12 + r42)*r22 - r12*r41 + r11*r42 - r14*r42 + r12*r44\n",
      "-(r12 + r42)*r23\n",
      "-(r12 + r42)*r24 - r14*r41 + r13*r42\n",
      "-r11*(r13 + r21) + r11*r21 - r14*r21 + r13*r22 - r23*r31\n",
      "-r12*(r13 + r21) + r12*r21 - r23*r32\n",
      "-(r13 + r21)*r13 + r11*r23 - r14*r23 + r13*r24 - r23*r33\n",
      "-(r13 + r21)*r14 + r12*r23 - r23*r34\n",
      "-(r21 + r24)*r21 + r21^2 - r11*r23 + r22*r23 - r23*r41\n",
      "-(r21 + r24)*r22 + r21*r22 - r12*r23 + r22*r24 - r23*r42\n",
      "-r13*r23 - (r21 + r24)*r23 + r21*r23 + r23*r24 - r23*r43\n",
      "-r14*r23 + r22*r23 - (r21 + r24)*r24 + r24^2 - r23*r44\n",
      "-r11*(r22 + r33) + r21*r31 - r24*r31 + r22*r33 - r21*r34\n",
      "-r12*(r22 + r33) + r21*r32 - r24*r32\n",
      "-r13*(r22 + r33) + r23*r31 - r23*r34\n",
      "-r14*(r22 + r33) + r23*r32 - r24*r34\n",
      "-r21*(r22 + r44) + r21*r41 - r24*r41 - r11*r43 + r22*r43\n",
      "-(r22 + r44)*r22 + r21*r42 - r24*r42 - r12*r43 + r22*r44\n",
      "-(r22 + r44)*r23 + r23*r41 - r13*r43\n",
      "-(r22 + r44)*r24 + r23*r42 - r14*r43\n",
      "-(r11 + r33)*r31 + r13*r32 - r12*r41\n",
      "-(r11 + r33)*r32 + r14*r32 - r12*r42\n",
      "-r13*r31 - (r11 + r33)*r33 + r11*r33 + r13*r34 - r12*r43\n",
      "-r14*r31 + r12*r33 - (r11 + r33)*r34 + r14*r34 - r12*r44\n",
      "-r21*r31 + r23*r32 - (r22 + r33)*r41\n",
      "-r21*r32 + r24*r32 - (r22 + r33)*r42\n",
      "-r23*r31 + r23*r34 - (r22 + r33)*r43\n",
      "-r24*r31 + r22*r33 - r21*r34 + r24*r34 - (r22 + r33)*r44\n",
      "-(r31 + r34)*r31 + r31^2 - r11*r32 + r32*r33 - r32*r41\n",
      "-r12*r32 - (r31 + r34)*r32 + r31*r32 + r32*r34 - r32*r42\n",
      "-r13*r32 - (r31 + r34)*r33 + r31*r33 + r33*r34 - r32*r43\n",
      "-r14*r32 + r32*r33 - (r31 + r34)*r34 + r34^2 - r32*r44\n",
      "-r21*r32 - (r34 + r42)*r41 + r32*r43\n",
      "-r22*r32 - r32*r41 + r31*r42 - (r34 + r42)*r42 + r32*r44\n",
      "-r23*r32 - (r34 + r42)*r43 + r34*r43\n",
      "-r24*r32 - r34*r41 + r33*r42 - (r34 + r42)*r44 + r34*r44\n",
      "-(r13 + r43)*r31 - r14*r41 + r13*r42\n",
      "-(r13 + r43)*r32\n",
      "-(r13 + r43)*r33 - r13*r41 + r11*r43 - r14*r43 + r13*r44\n",
      "-(r13 + r43)*r34 - r14*r41 + r12*r43\n",
      "-r23*r31 - (r24 + r43)*r41 + r23*r42\n",
      "-r23*r32 - (r24 + r43)*r42 + r24*r42\n",
      "-r23*r33 - r23*r41 + r21*r43 - (r24 + r43)*r43 + r23*r44\n",
      "-r23*r34 - r24*r41 + r22*r43 - (r24 + r43)*r44 + r24*r44\n",
      "-r31*(r33 + r44) + r31*r41 - r34*r41 - r11*r42 + r33*r42\n",
      "-r32*(r33 + r44) + r32*r41 - r12*r42\n",
      "-(r33 + r44)*r33 - r13*r42 + r31*r43 - r34*r43 + r33*r44\n",
      "-(r33 + r44)*r34 - r14*r42 + r32*r43\n",
      "r41^2 - r21*r42 - r31*r43 + r42*r43 - 2*r41*r44\n",
      "-r22*r42 + r41*r42 - r32*r43 - r42*r44\n",
      "-r23*r42 - r33*r43 + r41*r43 - r43*r44\n",
      "-r24*r42 - r34*r43 + r42*r43 - r44^2\n"
     ]
    }
   ],
   "source": [
    "for eq in equations:\n",
    "    print(eq)"
   ]
  },
  {
   "attachments": {},
   "cell_type": "markdown",
   "metadata": {},
   "source": [
    "Computing the decomposition of the variety"
   ]
  },
  {
   "cell_type": "code",
   "execution_count": 10,
   "metadata": {},
   "outputs": [],
   "source": [
    "min_decomp = I.minimal_associated_primes()"
   ]
  },
  {
   "cell_type": "code",
   "execution_count": 11,
   "metadata": {},
   "outputs": [],
   "source": [
    "C1, C2,C3, C4, A, B = min_decomp"
   ]
  },
  {
   "cell_type": "code",
   "execution_count": 12,
   "metadata": {},
   "outputs": [
    {
     "name": "stdout",
     "output_type": "stream",
     "text": [
      "True\n",
      "True\n",
      "True\n",
      "True\n",
      "True\n",
      "True\n"
     ]
    }
   ],
   "source": [
    "_=singular.LIB(\"primdec.lib\")\n",
    "\n",
    "\n",
    "def is_absolute(comp):\n",
    "    S = singular.ideal(comp).absPrimdecGTZ()\n",
    "    singular.setring(S)\n",
    "    return singular.execute(\"size(absolute_primes)\") == '1'\n",
    "\n",
    "print(is_absolute(C1))\n",
    "print(is_absolute(C2))\n",
    "print(is_absolute(C3))\n",
    "print(is_absolute(C4))\n",
    "print(is_absolute(A))\n",
    "print(is_absolute(B))"
   ]
  },
  {
   "cell_type": "code",
   "execution_count": 13,
   "metadata": {},
   "outputs": [
    {
     "data": {
      "text/plain": [
       "(2, 2, 2, 2)"
      ]
     },
     "execution_count": 13,
     "metadata": {},
     "output_type": "execute_result"
    }
   ],
   "source": [
    "dimension(C1),dimension(C2),dimension(C3),dimension(C4)"
   ]
  },
  {
   "cell_type": "code",
   "execution_count": 14,
   "metadata": {},
   "outputs": [
    {
     "data": {
      "text/plain": [
       "(3, 3)"
      ]
     },
     "execution_count": 14,
     "metadata": {},
     "output_type": "execute_result"
    }
   ],
   "source": [
    "dimension(A), dimension(B)"
   ]
  },
  {
   "attachments": {},
   "cell_type": "markdown",
   "metadata": {},
   "source": [
    "The minimal components of the variety are the curves C1-4 and spaces A,B"
   ]
  },
  {
   "attachments": {},
   "cell_type": "markdown",
   "metadata": {},
   "source": [
    "Computing the intersections:"
   ]
  },
  {
   "cell_type": "code",
   "execution_count": 15,
   "metadata": {},
   "outputs": [],
   "source": [
    "def get_intersections(pairs):\n",
    "    to_inter = []\n",
    "    for a, b in pairs:\n",
    "        if (a != b):\n",
    "            cur_inter = (a + b).radical()\n",
    "            to_inter.append(cur_inter)\n",
    "    res = to_inter[0]\n",
    "    for inter in to_inter:\n",
    "        res = res.intersection(inter)\n",
    "    return res\n",
    "\n",
    "intersection_locus = (get_intersections([(a,b) for a in min_decomp for b in min_decomp])).radical()"
   ]
  },
  {
   "cell_type": "code",
   "execution_count": 16,
   "metadata": {},
   "outputs": [
    {
     "data": {
      "text/plain": [
       "True"
      ]
     },
     "execution_count": 16,
     "metadata": {},
     "output_type": "execute_result"
    }
   ],
   "source": [
    "intersection_locus.is_prime()"
   ]
  },
  {
   "cell_type": "code",
   "execution_count": 17,
   "metadata": {},
   "outputs": [
    {
     "data": {
      "text/plain": [
       "2"
      ]
     },
     "execution_count": 17,
     "metadata": {},
     "output_type": "execute_result"
    }
   ],
   "source": [
    "dimension(intersection_locus)"
   ]
  },
  {
   "cell_type": "code",
   "execution_count": 18,
   "metadata": {},
   "outputs": [
    {
     "data": {
      "text/plain": [
       "True"
      ]
     },
     "execution_count": 18,
     "metadata": {},
     "output_type": "execute_result"
    }
   ],
   "source": [
    "get_intersections([(a, b) for a in min_decomp[0:4] for b in min_decomp[0:4]]) == irrelevant_ideal"
   ]
  },
  {
   "cell_type": "code",
   "execution_count": 19,
   "metadata": {},
   "outputs": [
    {
     "data": {
      "text/plain": [
       "True"
      ]
     },
     "execution_count": 19,
     "metadata": {},
     "output_type": "execute_result"
    }
   ],
   "source": [
    "get_intersections([a, A] for a in min_decomp[0:4]) == irrelevant_ideal"
   ]
  },
  {
   "cell_type": "code",
   "execution_count": 20,
   "metadata": {},
   "outputs": [
    {
     "data": {
      "text/plain": [
       "True"
      ]
     },
     "execution_count": 20,
     "metadata": {},
     "output_type": "execute_result"
    }
   ],
   "source": [
    "get_intersections([a, B] for a in min_decomp[0:4]) == irrelevant_ideal"
   ]
  },
  {
   "cell_type": "code",
   "execution_count": 21,
   "metadata": {},
   "outputs": [
    {
     "data": {
      "text/plain": [
       "True"
      ]
     },
     "execution_count": 21,
     "metadata": {},
     "output_type": "execute_result"
    }
   ],
   "source": [
    "get_intersections([(A, B)]) == intersection_locus"
   ]
  },
  {
   "cell_type": "code",
   "execution_count": 22,
   "metadata": {},
   "outputs": [
    {
     "data": {
      "text/plain": [
       "Ideal (-r42*r43 + r41*r44, -r42^2 + r32*r44, -r41*r42 + r32*r43, -r41*r42 + r31*r44, -r41^2 + r31*r43, -r32*r41 + r31*r42, r24*r42 + r44^2, r24*r41 + r43*r44, r24*r32 + r42*r44, r24*r31 + r42*r43, -r24*r43 + r23*r44, r23*r42 + r43*r44, r23*r41 + r43^2, r23*r32 + r42*r43, r23*r31 + r41*r43, r34 - r42, r33 - r41, r22 + r44, r21 + r43, r14 + r44, r13 + r43, r12 + r42, r11 + r41) of Multivariate Polynomial Ring in r11, r12, r13, r14, r21, r22, r23, r24, r31, r32, r33, r34, r41, r42, r43, r44 over Rational Field"
      ]
     },
     "execution_count": 22,
     "metadata": {},
     "output_type": "execute_result"
    }
   ],
   "source": [
    "A"
   ]
  },
  {
   "attachments": {},
   "cell_type": "markdown",
   "metadata": {},
   "source": [
    "Now export:"
   ]
  },
  {
   "cell_type": "code",
   "execution_count": 23,
   "metadata": {},
   "outputs": [],
   "source": [
    "def desagify(objs):\n",
    "    res = \"\"\n",
    "    for obj in objs:\n",
    "        res = res + str(obj) + ','\n",
    "    return res"
   ]
  },
  {
   "cell_type": "code",
   "execution_count": 24,
   "metadata": {},
   "outputs": [
    {
     "name": "stdout",
     "output_type": "stream",
     "text": [
      "r11,r12,r13,r14,r21,r22,r23,r24,r31,r32,r33,r34,r41,r42,r43,r44,\n"
     ]
    }
   ],
   "source": [
    "print(desagify(vars_rota))"
   ]
  },
  {
   "cell_type": "code",
   "execution_count": 25,
   "metadata": {},
   "outputs": [
    {
     "name": "stdout",
     "output_type": "stream",
     "text": [
      "-r11^2 + r12*r13 - r12*r21 - r13*r31,-r11*r12 + r12*r14 - r12*r22 - r13*r32,-r11*r13 + r13*r14 - r12*r23 - r13*r33,r12*r13 - 2*r11*r14 + r14^2 - r12*r24 - r13*r34,-(r11 + r22)*r21 + r12*r23 - r13*r41,-r12*r21 - (r11 + r22)*r22 + r11*r22 + r12*r24 - r13*r42,-(r11 + r22)*r23 + r14*r23 - r13*r43,-r14*r21 + r13*r22 - (r11 + r22)*r24 + r14*r24 - r13*r44,-r11*(r12 + r31) + r11*r31 - r14*r31 - r21*r32 + r12*r33,-(r12 + r31)*r12 + r11*r32 - r14*r32 - r22*r32 + r12*r34,-(r12 + r31)*r13 + r13*r31 - r23*r32,-(r12 + r31)*r14 + r13*r32 - r24*r32,-(r12 + r42)*r21 - r14*r41 + r12*r43,-(r12 + r42)*r22 - r12*r41 + r11*r42 - r14*r42 + r12*r44,-(r12 + r42)*r23,-(r12 + r42)*r24 - r14*r41 + r13*r42,-r11*(r13 + r21) + r11*r21 - r14*r21 + r13*r22 - r23*r31,-r12*(r13 + r21) + r12*r21 - r23*r32,-(r13 + r21)*r13 + r11*r23 - r14*r23 + r13*r24 - r23*r33,-(r13 + r21)*r14 + r12*r23 - r23*r34,-(r21 + r24)*r21 + r21^2 - r11*r23 + r22*r23 - r23*r41,-(r21 + r24)*r22 + r21*r22 - r12*r23 + r22*r24 - r23*r42,-r13*r23 - (r21 + r24)*r23 + r21*r23 + r23*r24 - r23*r43,-r14*r23 + r22*r23 - (r21 + r24)*r24 + r24^2 - r23*r44,-r11*(r22 + r33) + r21*r31 - r24*r31 + r22*r33 - r21*r34,-r12*(r22 + r33) + r21*r32 - r24*r32,-r13*(r22 + r33) + r23*r31 - r23*r34,-r14*(r22 + r33) + r23*r32 - r24*r34,-r21*(r22 + r44) + r21*r41 - r24*r41 - r11*r43 + r22*r43,-(r22 + r44)*r22 + r21*r42 - r24*r42 - r12*r43 + r22*r44,-(r22 + r44)*r23 + r23*r41 - r13*r43,-(r22 + r44)*r24 + r23*r42 - r14*r43,-(r11 + r33)*r31 + r13*r32 - r12*r41,-(r11 + r33)*r32 + r14*r32 - r12*r42,-r13*r31 - (r11 + r33)*r33 + r11*r33 + r13*r34 - r12*r43,-r14*r31 + r12*r33 - (r11 + r33)*r34 + r14*r34 - r12*r44,-r21*r31 + r23*r32 - (r22 + r33)*r41,-r21*r32 + r24*r32 - (r22 + r33)*r42,-r23*r31 + r23*r34 - (r22 + r33)*r43,-r24*r31 + r22*r33 - r21*r34 + r24*r34 - (r22 + r33)*r44,-(r31 + r34)*r31 + r31^2 - r11*r32 + r32*r33 - r32*r41,-r12*r32 - (r31 + r34)*r32 + r31*r32 + r32*r34 - r32*r42,-r13*r32 - (r31 + r34)*r33 + r31*r33 + r33*r34 - r32*r43,-r14*r32 + r32*r33 - (r31 + r34)*r34 + r34^2 - r32*r44,-r21*r32 - (r34 + r42)*r41 + r32*r43,-r22*r32 - r32*r41 + r31*r42 - (r34 + r42)*r42 + r32*r44,-r23*r32 - (r34 + r42)*r43 + r34*r43,-r24*r32 - r34*r41 + r33*r42 - (r34 + r42)*r44 + r34*r44,-(r13 + r43)*r31 - r14*r41 + r13*r42,-(r13 + r43)*r32,-(r13 + r43)*r33 - r13*r41 + r11*r43 - r14*r43 + r13*r44,-(r13 + r43)*r34 - r14*r41 + r12*r43,-r23*r31 - (r24 + r43)*r41 + r23*r42,-r23*r32 - (r24 + r43)*r42 + r24*r42,-r23*r33 - r23*r41 + r21*r43 - (r24 + r43)*r43 + r23*r44,-r23*r34 - r24*r41 + r22*r43 - (r24 + r43)*r44 + r24*r44,-r31*(r33 + r44) + r31*r41 - r34*r41 - r11*r42 + r33*r42,-r32*(r33 + r44) + r32*r41 - r12*r42,-(r33 + r44)*r33 - r13*r42 + r31*r43 - r34*r43 + r33*r44,-(r33 + r44)*r34 - r14*r42 + r32*r43,r41^2 - r21*r42 - r31*r43 + r42*r43 - 2*r41*r44,-r22*r42 + r41*r42 - r32*r43 - r42*r44,-r23*r42 - r33*r43 + r41*r43 - r43*r44,-r24*r42 - r34*r43 + r42*r43 - r44^2,\n"
     ]
    }
   ],
   "source": [
    "print(desagify(equations))"
   ]
  },
  {
   "cell_type": "code",
   "execution_count": 26,
   "metadata": {},
   "outputs": [
    {
     "name": "stdout",
     "output_type": "stream",
     "text": [
      "r24*r42 + r44^2,r43,r41,r34,r33 - r44,r32,r31 - r42,r23,r22 + r44,r21,r14,r13 - r24,r12,r11 + r44,\n",
      "-r41^2 + r21*r42,r44,r43,r34 + r42,r33 + r41,r32,r31,r24,r23,r22 - r41,r14 + r41,r13 + r21,r12,r11,\n",
      "r34*r43 + r44^2,r42,r41,r33 + r44,r32,r31,r24,r23,r22 - r44,r21 - r43,r14,r13,r12 - r34,r11 + r44,\n",
      "-r41^2 + r31*r43,r44,r42,r34,r33 - r41,r32,r24 + r43,r23,r22 + r41,r21,r14 + r41,r13,r12 + r31,r11,\n",
      "-r42*r43 + r41*r44,-r42^2 + r32*r44,-r41*r42 + r32*r43,-r41*r42 + r31*r44,-r41^2 + r31*r43,-r32*r41 + r31*r42,r24*r42 + r44^2,r24*r41 + r43*r44,r24*r32 + r42*r44,r24*r31 + r42*r43,-r24*r43 + r23*r44,r23*r42 + r43*r44,r23*r41 + r43^2,r23*r32 + r42*r43,r23*r31 + r41*r43,r34 - r42,r33 - r41,r22 + r44,r21 + r43,r14 + r44,r13 + r43,r12 + r42,r11 + r41,\n",
      "-r42*r43 + r41*r44,r34*r43 + r44^2,r34*r41 + r42*r44,-r34*r42 + r32*r44,r32*r43 + r42*r44,r32*r41 + r42^2,-r43^2 + r23*r44,r23*r42 - r41*r43,r23*r34 + r43*r44,r23*r32 + r42*r43,-r41*r43 + r21*r44,-r23*r41 + r21*r43,-r41^2 + r21*r42,r21*r34 + r42*r43,r21*r32 + r41*r42,r33 + r44,r31 + r42,r24 - r43,r22 - r41,r14 + r44,r13 + r43,r12 + r42,r11 + r41,\n"
     ]
    }
   ],
   "source": [
    "for min_comp in min_decomp:\n",
    "    print(desagify(min_comp.gens()))"
   ]
  },
  {
   "cell_type": "code",
   "execution_count": 27,
   "metadata": {},
   "outputs": [
    {
     "name": "stdout",
     "output_type": "stream",
     "text": [
      "r41 + r44,r34 - r42,r33 + r44,r31 + r42,r24 - r43,r22 + r44,r21 + r43,r14 + r44,r13 + r43,r12 + r42,r11 - r44,r43^2 - r23*r44,r42*r43 + r44^2,r32*r43 + r42*r44,r42^2 - r32*r44,r23*r42 + r43*r44,r23*r32 - r44^2,\n"
     ]
    }
   ],
   "source": [
    "print(desagify(intersection_locus.gens()))"
   ]
  },
  {
   "attachments": {},
   "cell_type": "markdown",
   "metadata": {},
   "source": [
    "Pretty-print:"
   ]
  },
  {
   "cell_type": "code",
   "execution_count": 28,
   "metadata": {},
   "outputs": [],
   "source": [
    "def trim(ideal):\n",
    "    gens = sorted(ideal.gens(), key=lambda x: x.degree())\n",
    "    lins = [gen for gen in gens if gen.degree() == 1]\n",
    "    substs = dict({\n",
    "        # (a,a) for a in vars_rota\n",
    "    })\n",
    "    \n",
    "    occurs = dict()\n",
    "    for gen in gens:\n",
    "        for var_ in gen.variables():\n",
    "            if occurs.get(var_) == None:\n",
    "                occurs[var_] = 1\n",
    "            else:\n",
    "                occurs[var_] += 1\n",
    "\n",
    "    for lin in lins:\n",
    "        to_elim = None\n",
    "        for v in lin.variables():\n",
    "            if occurs[v] == 1:\n",
    "                to_elim = v\n",
    "        if to_elim is not None:\n",
    "            coeff = lin.monomial_coefficient(to_elim)\n",
    "            lin_ = lin / coeff - to_elim\n",
    "            substs[to_elim] = lin_\n",
    "            gens.remove(lin)\n",
    "    return (rota.subs(substs), gens)\n",
    "\n",
    "\n"
   ]
  },
  {
   "cell_type": "code",
   "execution_count": 29,
   "metadata": {},
   "outputs": [],
   "source": [
    "def subs(pair, dict_):\n",
    "    rota_, gens = pair\n",
    "    new_gens = []\n",
    "    for gen in gens:\n",
    "        new_gens.append(gen.subs(dict_))\n",
    "    return rota_.subs(dict_), new_gens\n"
   ]
  },
  {
   "cell_type": "code",
   "execution_count": 30,
   "metadata": {},
   "outputs": [
    {
     "name": "stdout",
     "output_type": "stream",
     "text": [
      "([ a  0 -b  0]\n",
      "[ 0  a  0  b]\n",
      "[-c  0 -a  0]\n",
      "[ 0  c  0  a], [a^2 + b*c])\n",
      "\n",
      "([ 0  0  b  a]\n",
      "[ b -a  0  0]\n",
      "[ 0  0  a  c]\n",
      "[ a  c  0  0], [-a^2 + b*c])\n",
      "\n",
      "([ a -b  0  0]\n",
      "[-c -a  0  0]\n",
      "[ 0  0  a  b]\n",
      "[ 0  0  c  a], [a^2 + b*c])\n",
      "\n",
      "([ 0  b  0  a]\n",
      "[ 0  a  0  c]\n",
      "[ b  0 -a  0]\n",
      "[ a  0  c  0], [-a^2 + b*c])\n"
     ]
    }
   ],
   "source": [
    "\n",
    "def __ward_off__():\n",
    "    a,b,c,d,e = var('a,b,c,d,e')\n",
    "\n",
    "\n",
    "    # print(latex(subs(trim(C1), {r44:a, r24:b, r42:c})))\n",
    "    # print()\n",
    "    # print(latex(subs(trim(C2), {r41:a, r21:b, r42:c})))\n",
    "    # print()\n",
    "    # print(latex(subs(trim(C3), {r44:a, r34:b, r43:c})))\n",
    "    # print()\n",
    "    # print(latex(subs(trim(C4), {r41:a, r31:b, r43:c})))\n",
    "\n",
    "    print((subs(trim(C1), {r44:a, r24:b, r42:c})))\n",
    "    print()\n",
    "    print((subs(trim(C2), {r41:a, r21:b, r42:c})))\n",
    "    print()\n",
    "    print((subs(trim(C3), {r44:a, r34:b, r43:c})))\n",
    "    print()\n",
    "    print((subs(trim(C4), {r41:a, r31:b, r43:c})))\n",
    "\n",
    "\n",
    "\n",
    "__ward_off__()\n"
   ]
  },
  {
   "cell_type": "code",
   "execution_count": 31,
   "metadata": {},
   "outputs": [],
   "source": [
    "# subs(trim(intersection_locus), {r44:a, r43:b, r42:c, r32:d, r23:e})"
   ]
  },
  {
   "attachments": {},
   "cell_type": "markdown",
   "metadata": {},
   "source": [
    "And now lets find the orbits:"
   ]
  },
  {
   "cell_type": "code",
   "execution_count": 32,
   "metadata": {},
   "outputs": [],
   "source": [
    "def find_component_of(substs):\n",
    "    res = []\n",
    "    possible_comps = min_decomp + [intersection_locus]\n",
    "    comp_names = {\n",
    "        0 : 'C1',\n",
    "        1 : 'C2',\n",
    "        2 : 'C3',\n",
    "        3 : 'C4',\n",
    "        4 : 'A',\n",
    "        5 : 'B',\n",
    "        6 : 'Sing',\n",
    "    }\n",
    "\n",
    "    for i in range(len(possible_comps)):\n",
    "        comp = possible_comps[i]\n",
    "\n",
    "        for eq in comp.gens():\n",
    "            if not eq.subs(substs) == 0:\n",
    "                break\n",
    "        else:\n",
    "            res.append(comp_names[i])\n",
    "    return res"
   ]
  },
  {
   "cell_type": "code",
   "execution_count": 33,
   "metadata": {},
   "outputs": [
    {
     "data": {
      "text/plain": [
       "[e11*r11 + e12*r12 + e21*r13 + e22*r14]\n",
       "[e11*r21 + e12*r22 + e21*r23 + e22*r24]\n",
       "[e11*r31 + e12*r32 + e21*r33 + e22*r34]\n",
       "[e11*r41 + e12*r42 + e21*r43 + e22*r44]"
      ]
     },
     "execution_count": 33,
     "metadata": {},
     "output_type": "execute_result"
    }
   ],
   "source": [
    "rota * matrix([_ for _ in vars_e]).T"
   ]
  },
  {
   "cell_type": "code",
   "execution_count": 34,
   "metadata": {},
   "outputs": [],
   "source": [
    "def rota_dict_from_gubarev(e_dict):\n",
    "    to_subst = dict(\n",
    "        (var, 0) for var in vars_rota\n",
    "    )\n",
    "\n",
    "    for i in range(n2):\n",
    "        for j in range(n2):\n",
    "            ei = vars_e[i]\n",
    "            ej = vars_e[j]\n",
    "            temp = e_dict.get(ei, 0)\n",
    "            coeff = 0\n",
    "            if temp != 0:\n",
    "                coeff = temp.coefficient(ej)\n",
    "            to_subst[vars_rota[j + i*n2]] = coeff\n",
    "\n",
    "    return to_subst\n",
    "\n",
    "\n",
    "gubarev_orbits = [\n",
    "    {e21 : e12}, # M1\n",
    "    {e12 : e21}, # M1 Transpose\n",
    "    {e21 : e11}, # M2\n",
    "    {e12 : e11}, # M2 Transpose\n",
    "    {e21 : e11, e22 : e12}, # M3\n",
    "    {e12 : e11, e22 : e21}, # M3 Transpose\n",
    "    {e21 : -e11, e11 : e12}, # M4\n",
    "    {e12 : -e11, e11 : e21}  # M4 Transpose\n",
    "]\n"
   ]
  },
  {
   "cell_type": "code",
   "execution_count": 35,
   "metadata": {},
   "outputs": [
    {
     "data": {
      "text/plain": [
       "[['A', 'B', 'Sing'],\n",
       " ['A', 'B', 'Sing'],\n",
       " ['A'],\n",
       " ['B'],\n",
       " ['C1'],\n",
       " ['C3'],\n",
       " ['C4'],\n",
       " ['C2']]"
      ]
     },
     "execution_count": 35,
     "metadata": {},
     "output_type": "execute_result"
    }
   ],
   "source": [
    "orbit_components = [\n",
    "    find_component_of(rota_dict_from_gubarev(orb)) for orb in gubarev_orbits\n",
    "]\n",
    "\n",
    "orbit_components"
   ]
  },
  {
   "attachments": {},
   "cell_type": "markdown",
   "metadata": {},
   "source": [
    "We see that the orbits from https://doi.org/10.1007/s00009-018-1234-5 lie in components:\n",
    "\n",
    "- M1 is in the singular locus\n",
    "- M2 and M2.T lie on the smooth general part of the variety\n",
    "- M3 and M4 and their transposes lie on the exceptional curves"
   ]
  },
  {
   "cell_type": "code",
   "execution_count": 36,
   "metadata": {},
   "outputs": [
    {
     "name": "stdout",
     "output_type": "stream",
     "text": [
      "[r11, r13, r12, r14, r31, r33, r32, r34, r21, r23, r22, r24, r41, r43, r42, r44]\n"
     ]
    }
   ],
   "source": [
    "transpose_dict = {\n",
    "    r11 : r11,\n",
    "    r12 : r13,\n",
    "    r13 : r12,\n",
    "    r14 : r14,\n",
    "    r21 : r31,\n",
    "    r22 : r33,\n",
    "    r23 : r32,\n",
    "    r24 : r34,\n",
    "    r31 : r21,\n",
    "    r32 : r23,\n",
    "    r33 : r22,\n",
    "    r34 : r24,\n",
    "    r41 : r41,\n",
    "    r42 : r43,\n",
    "    r43 : r42,\n",
    "    r44 : r44\n",
    "}\n",
    "\n",
    "print(list(map(lambda x : transpose_dict[x], [_ for _ in vars_rota])))"
   ]
  },
  {
   "attachments": {},
   "cell_type": "markdown",
   "metadata": {},
   "source": [
    "Looking at Macaulay, transposition transforms \n",
    "$A \\leftrightarrow B$, \n",
    "$C_1 \\leftrightarrow C_3$, \n",
    "$C_2 \\leftrightarrow C_4$ "
   ]
  },
  {
   "attachments": {},
   "cell_type": "markdown",
   "metadata": {},
   "source": [
    "A simple attempt to verify. Does not work currently"
   ]
  },
  {
   "cell_type": "code",
   "execution_count": 37,
   "metadata": {},
   "outputs": [
    {
     "data": {
      "text/plain": [
       "[-b*c + a*d          0]\n",
       "[         0 -b*c + a*d]"
      ]
     },
     "execution_count": 37,
     "metadata": {},
     "output_type": "execute_result"
    }
   ],
   "source": [
    "SL.<a,b,c,d> = QQ['a,b,c,d']\n",
    "# a,b,c,d = vars('a,b,c,d')\n",
    "\n",
    "\n",
    "def gubarev_dict_from_aut(operator, phi, invphi):\n",
    "    phi = matcast(phi)\n",
    "    invphi = matcast(invphi)\n",
    "    aut_op = lincast(\n",
    "            invphi * \n",
    "            matcast(\n",
    "                operator.T * \n",
    "                lincast(\n",
    "                    phi * matrix([[e11, e12], [e21, e22]]) * invphi\n",
    "                )\n",
    "            ) *\n",
    "            phi\n",
    "        )\n",
    "    e_dict = dict([\n",
    "        (eij, 0) for eij in vars_e\n",
    "    ])\n",
    "    def take(eij):\n",
    "        _ = dict(e_dict)\n",
    "        _[eij] = 1\n",
    "        return _\n",
    "\n",
    "    aut_dict = dict([\n",
    "        (eij, (matrix([e11, e12, e21, e22]) * aut_op.subs(take(eij)))[0][0]) for eij in vars_e\n",
    "    ])\n",
    "    return aut_dict\n",
    "\n",
    "\n",
    "phi, invphi = matrix([a,b,c,d]).T, matrix([d,-b,-c,a]).T\n",
    "\n",
    "matcast(invphi) * matcast(phi)"
   ]
  },
  {
   "cell_type": "code",
   "execution_count": 38,
   "metadata": {},
   "outputs": [],
   "source": [
    "def find_component_of_SL(substs):\n",
    "    res = []\n",
    "    possible_comps = min_decomp + [intersection_locus]\n",
    "    comp_names = {\n",
    "        0 : 'C1',\n",
    "        1 : 'C2',\n",
    "        2 : 'C3',\n",
    "        3 : 'C4',\n",
    "        4 : 'A',\n",
    "        5 : 'B',\n",
    "        6 : 'Sing',\n",
    "    }\n",
    "\n",
    "    for i in range(len(possible_comps)):\n",
    "        comp = possible_comps[i]\n",
    "\n",
    "        temp = []\n",
    "        for eq in comp.gens():\n",
    "            temp.append(eq.subs(substs))\n",
    "        res.append(SL.ideal(temp).radical())\n",
    "    return res"
   ]
  },
  {
   "cell_type": "code",
   "execution_count": 55,
   "metadata": {},
   "outputs": [],
   "source": [
    "def dict_of_orbit_from_orbit_repr(orbit_repr_as_gubarev):\n",
    "    operator = rota.subs(rota_dict_from_gubarev(orbit_repr_as_gubarev))\n",
    "    gub_dict = gubarev_dict_from_aut(operator, phi, invphi)\n",
    "    return rota_dict_from_gubarev(gub_dict)"
   ]
  },
  {
   "cell_type": "markdown",
   "metadata": {},
   "source": []
  },
  {
   "cell_type": "code",
   "execution_count": 66,
   "metadata": {},
   "outputs": [
    {
     "data": {
      "text/plain": [
       "[['A', 'B', 'Sing'],\n",
       " ['A', 'B', 'Sing'],\n",
       " ['A'],\n",
       " ['B'],\n",
       " ['C1'],\n",
       " ['C3'],\n",
       " ['C4'],\n",
       " ['C2']]"
      ]
     },
     "execution_count": 66,
     "metadata": {},
     "output_type": "execute_result"
    }
   ],
   "source": [
    "[find_component_of(dict_of_orbit_from_orbit_repr(orb)) for orb in gubarev_orbits]"
   ]
  }
 ],
 "metadata": {
  "kernelspec": {
   "display_name": "SageMath 9.5",
   "language": "sage",
   "name": "sagemath"
  },
  "language_info": {
   "codemirror_mode": {
    "name": "ipython",
    "version": 3
   },
   "file_extension": ".py",
   "mimetype": "text/x-python",
   "name": "python",
   "nbconvert_exporter": "python",
   "pygments_lexer": "ipython3",
   "version": "3.10.6"
  },
  "orig_nbformat": 4
 },
 "nbformat": 4,
 "nbformat_minor": 2
}
